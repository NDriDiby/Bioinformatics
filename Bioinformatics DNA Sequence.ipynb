{
 "cells": [
  {
   "cell_type": "code",
   "execution_count": 8,
   "metadata": {},
   "outputs": [],
   "source": [
    "from Bio.Seq import Seq\n",
    "import pandas as pd"
   ]
  },
  {
   "cell_type": "code",
   "execution_count": null,
   "metadata": {},
   "outputs": [],
   "source": []
  },
  {
   "cell_type": "markdown",
   "metadata": {},
   "source": [
    "## Write a Python function to prompt the user to enter a nucleotide sequence 5' to 3' and then display its reverse complement 5' to 3'\n",
    "ATCG"
   ]
  },
  {
   "cell_type": "code",
   "execution_count": 67,
   "metadata": {},
   "outputs": [],
   "source": [
    "def reverse_comp():\n",
    "    seq = input(\"Enter Your DNA Sequence:\") #get the sequence from the user\n",
    "    reverse = [] #create a empty list\n",
    "    for i in seq:\n",
    "        if i == \"A\":\n",
    "            reverse.append(\"T\") #Add T into the list if there is an A\n",
    "        if i == \"C\":\n",
    "            reverse.append(\"G\") #Add G into the list if there is an C\n",
    "        if i == \"G\":\n",
    "            reverse.append(\"C\") #Add C into the list if there is an G\n",
    "        if i == \"T\":\n",
    "            reverse.append(\"A\") #Add A into the list if there is an T\n",
    "    return ''.join(reverse[::-1]) # return the reverse of the list"
   ]
  },
  {
   "cell_type": "code",
   "execution_count": 68,
   "metadata": {},
   "outputs": [
    {
     "name": "stdout",
     "output_type": "stream",
     "text": [
      "Enter Your DNA Sequence:\n"
     ]
    },
    {
     "data": {
      "text/plain": [
       "''"
      ]
     },
     "execution_count": 68,
     "metadata": {},
     "output_type": "execute_result"
    }
   ],
   "source": [
    "reverse_comp()"
   ]
  },
  {
   "cell_type": "code",
   "execution_count": 69,
   "metadata": {},
   "outputs": [],
   "source": [
    "def reverse_complement(dna):\n",
    "    reverse = []\n",
    "    for i in dna:\n",
    "        if i == \"A\":\n",
    "            reverse.append(\"T\")\n",
    "        if i == \"C\":\n",
    "            reverse.append(\"G\")\n",
    "        if i == \"G\":\n",
    "            reverse.append(\"C\")\n",
    "        if i == \"T\":\n",
    "            reverse.append(\"A\")\n",
    "    return ''.join(reverse[::-1])"
   ]
  },
  {
   "cell_type": "markdown",
   "metadata": {},
   "source": [
    "## Write a Python function to prompt the user to enter a nucleotide sequence 5' to 3' and then display its complement 3' to 5'"
   ]
  },
  {
   "cell_type": "code",
   "execution_count": 70,
   "metadata": {},
   "outputs": [],
   "source": [
    "def reverse_seq(dna):\n",
    "    reverse = []\n",
    "    for i in dna:\n",
    "        if i == \"A\":\n",
    "            reverse.append(\"T\")\n",
    "        if i == \"C\":\n",
    "            reverse.append(\"G\")\n",
    "        if i == \"G\":\n",
    "            reverse.append(\"C\")\n",
    "        if i == \"T\":\n",
    "            reverse.append(\"A\")\n",
    "    return ''.join(reverse)"
   ]
  },
  {
   "cell_type": "code",
   "execution_count": 71,
   "metadata": {},
   "outputs": [
    {
     "data": {
      "text/plain": [
       "'TAGC'"
      ]
     },
     "execution_count": 71,
     "metadata": {},
     "output_type": "execute_result"
    }
   ],
   "source": [
    "reverse_seq(\"ATCG\")"
   ]
  },
  {
   "cell_type": "markdown",
   "metadata": {},
   "source": [
    "## Write a Python function to prompt the user to enter a nucleotide sequence 5' to 3' and then print out all the reverse palindromes of length 6 and their positions in the sequence\n",
    "CGTACG\n",
    "ACGTACGT\n",
    "CACCGGTTT\n",
    "CACCGGTACCT"
   ]
  },
  {
   "cell_type": "code",
   "execution_count": 72,
   "metadata": {},
   "outputs": [],
   "source": [
    "def palindromes():\n",
    "    nucleotide = input(\"Enter Your DNA Sequence to check for palindromes:\") #get the sequence from the user\n",
    "    nucle_comp = reverse_complement(nucleotide) #get the reverse complement of the sequence\n",
    "    print(f'Original sequence:{nucleotide}') #print the original sequence\n",
    "    print(f'Reverse sequence:{nucle_comp}') #print the reverse complement sequence\n",
    "    for i in range(0,len(nucleotide)):\n",
    "        for j in range(0,len(nucle_comp)):\n",
    "            if((nucleotide[i:i+6] == nucle_comp[j:j+6]) and len(nucleotide[i:i+6])>=6 ): #check if each 6 bases are the same\n",
    "                print(f'Palindromes:{nucleotide[i:i+6] == nucle_comp[j:j+6]}') #print True or False \n",
    "                print(nucle_comp[j:j+6])\n",
    "                print(nucleotide[i:i+6])\n",
    "                print(f'position: {i+1}') #Print the position\n",
    "               "
   ]
  },
  {
   "cell_type": "code",
   "execution_count": null,
   "metadata": {
    "scrolled": false
   },
   "outputs": [],
   "source": [
    "palindromes()"
   ]
  },
  {
   "cell_type": "code",
   "execution_count": null,
   "metadata": {},
   "outputs": [],
   "source": [
    "palindromes()"
   ]
  },
  {
   "cell_type": "code",
   "execution_count": null,
   "metadata": {},
   "outputs": [],
   "source": [
    "palindromes()"
   ]
  },
  {
   "cell_type": "code",
   "execution_count": null,
   "metadata": {},
   "outputs": [],
   "source": [
    "palindromes()"
   ]
  },
  {
   "cell_type": "code",
   "execution_count": null,
   "metadata": {},
   "outputs": [],
   "source": []
  },
  {
   "cell_type": "markdown",
   "metadata": {},
   "source": [
    "## Write a Python function to find six reading frames and the amino sequences translated from the reading frames."
   ]
  },
  {
   "cell_type": "markdown",
   "metadata": {},
   "source": [
    "Requirements:\n",
    "### 1.Build a dictionary for the RNA codon table at Rosalind Project (http://rosalind.info/glossary/rna-codon-table/).  Note that the codons in the table should be in upper case.\n",
    "### 2.Prompt the user to input a DNA sequence. The user can enter the sequence in either upper case or lower case.\n",
    "### 3.Print out three forward reading frames and three backward reading frames on separate lines.\n",
    "### 4.If a stop codon is encountered, \"*\" is printed and the translation of the reading frame stops."
   ]
  },
  {
   "cell_type": "code",
   "execution_count": null,
   "metadata": {},
   "outputs": [],
   "source": []
  },
  {
   "cell_type": "code",
   "execution_count": 73,
   "metadata": {},
   "outputs": [],
   "source": [
    "#Codon Table\n",
    "amino = {\"UUU\":'F', 'CUU': 'L', 'AUU': 'I', 'GUU': 'V', 'UUC': 'F', 'CUC': 'L', 'AUC': 'I', 'GUC': 'V', 'UUA': 'L', 'CUA': 'L',\n",
    "        'AUA': 'I', 'GUA': 'V', 'UUG': 'L', 'CUG': 'L', 'AUG': 'M', 'GUG' :'V', 'UCU': 'S', 'CCU': 'P', 'ACU': 'T',\n",
    "        'GCU': 'A', 'UCC': 'S', 'CCC': 'P', 'ACC': 'T', 'GCC': 'A' ,'UCA': 'S', 'CCA' :'P', 'ACA': 'T', 'GCA': 'A', 'UCG': 'S', 'CCG': 'P',\n",
    "        'ACG': 'T', 'GCG': 'A', 'UAU': 'Y', 'CAU': 'H', 'AAU': 'N', 'GAU': 'D', 'UAC': 'Y' ,'CAC': 'H', 'AAC': 'N', 'GAC': 'D', 'UAA' :'Stop', 'CAA' :'Q', 'AAA': 'K', 'GAA' :'E',\n",
    "        'UAG': 'Stop', 'CAG': 'Q', 'AAG':'K', 'GAG': 'E', 'UGU': 'C', 'CGU': 'R', 'AGU': 'S', 'GGU': 'G', 'UGC': 'C', 'CGC': 'R', 'AGC': 'S', 'GGC': 'G', 'UGA': 'Stop', 'CGA': 'R',\n",
    "        'AGA' :'R' ,'GGA': 'G', 'UGG' :'W', 'CGG': 'R', 'AGG': 'R' ,'GGG': 'G'}"
   ]
  },
  {
   "cell_type": "code",
   "execution_count": 74,
   "metadata": {},
   "outputs": [
    {
     "name": "stdout",
     "output_type": "stream",
     "text": [
      "Enter Your DNA Sequence:TACG\n",
      "DNA Reverse Complement:CGTA\n",
      "\n",
      "Enter Your DNA Sequence to check for palindromes:CACCGGTACCT\n",
      "Original sequence:CACCGGTACCT\n",
      "Reverse sequence:AGGTACCGGTG\n",
      "Palindromes:True\n",
      "ACCGGT\n",
      "ACCGGT\n",
      "position: 2\n",
      "Palindromes:True\n",
      "GGTACC\n",
      "GGTACC\n",
      "position: 5\n",
      "\n",
      "Enter your DNA sequence for reading frame:acgtgcttagccg\n",
      "Forward reading frames:\n",
      "TCLA\n",
      "RA*\n",
      "VLS\n",
      "Backward reading frames:\n",
      "RLST\n",
      "G*\n",
      "AKH"
     ]
    }
   ],
   "source": [
    "# Write a Python function to prompt the user to enter a nucleotide sequence 5' to 3' and \n",
    "# then display its reverse complement 5' to 3'\n",
    "\n",
    "def reverse_comp():\n",
    "    '''\n",
    "    This function return the reverse complement of a DNA sequence\n",
    "    '''\n",
    "    seq = input(\"Enter Your DNA Sequence:\") #get the sequence from the user\n",
    "    reverse = [] #create a empty list\n",
    "    for i in seq:\n",
    "        if i == \"A\":\n",
    "            reverse.append(\"T\") #Add T into the list if there is an A in the sequence\n",
    "        if i == \"C\":\n",
    "            reverse.append(\"G\") #Add G into the list if there is an C in the sequence\n",
    "        if i == \"G\":\n",
    "            reverse.append(\"C\") #Add C into the list if there is an G in the sequence\n",
    "        if i == \"T\":\n",
    "            reverse.append(\"A\") #Add A into the list if there is an T in the sequence\n",
    "    return ''.join(reverse[::-1]) # return the reverse of the list\n",
    "\n",
    "\n",
    "\n",
    "# Write a Python function to prompt the user to enter a nucleotide sequence 5' to 3' \n",
    "#and then print out all the reverse palindromes of length 6 and their positions in the sequence\n",
    "\n",
    "def palindromes():\n",
    "    '''\n",
    "    This function check for palindromes, print the palidromes and their position.\n",
    "    '''\n",
    "    nucleotide = input(\"Enter Your DNA Sequence to check for palindromes:\") #get the sequence from the user\n",
    "    nucle_comp = reverse_complement(nucleotide) #get the reverse complement of the sequence\n",
    "    print(f'Original sequence:{nucleotide}') #print the original sequence\n",
    "    print(f'Reverse sequence:{nucle_comp}') #print the reverse complement sequence\n",
    "    for i in range(0,len(nucleotide)):\n",
    "        for j in range(0,len(nucle_comp)):\n",
    "            if((nucleotide[i:i+6] == nucle_comp[j:j+6]) and len(nucleotide[i:i+6])>=6 ): #check if each 6 bases are the same\n",
    "                print(f'Palindromes:{nucleotide[i:i+6] == nucle_comp[j:j+6]}') #print True or False \n",
    "                print(nucle_comp[j:j+6])\n",
    "                print(nucleotide[i:i+6])\n",
    "                print(f'position: {i+1}') #Print the position\n",
    "\n",
    "                \n",
    "                \n",
    "# Write a Python function to find six reading frames and the amino sequences translated from the reading frames.\n",
    "# 1.Build a dictionary for the RNA codon table at Rosalind Project (http://rosalind.info/glossary/rna-codon-table/).\n",
    "#Note that the codons in the table should be in upper case.\n",
    "# 2.Prompt the user to input a DNA sequence. The user can enter the sequence in either upper case or lower case.\n",
    "# 3.Print out three forward reading frames and three backward reading frames on separate lines.\n",
    "# 4.If a stop codon is encountered, \"*\" is printed and the translation of the reading frame stops.\n",
    "\n",
    "#Codon Table\n",
    "amino = {\"UUU\":'F', 'CUU': 'L', 'AUU': 'I', 'GUU': 'V', 'UUC': 'F', 'CUC': 'L', 'AUC': 'I', 'GUC': 'V', 'UUA': 'L', 'CUA': 'L',\n",
    "        'AUA': 'I', 'GUA': 'V', 'UUG': 'L', 'CUG': 'L', 'AUG': 'M', 'GUG' :'V', 'UCU': 'S', 'CCU': 'P', 'ACU': 'T',\n",
    "        'GCU': 'A', 'UCC': 'S', 'CCC': 'P', 'ACC': 'T', 'GCC': 'A' ,'UCA': 'S', 'CCA' :'P', 'ACA': 'T', 'GCA': 'A', 'UCG': 'S', 'CCG': 'P',\n",
    "        'ACG': 'T', 'GCG': 'A', 'UAU': 'Y', 'CAU': 'H', 'AAU': 'N', 'GAU': 'D', 'UAC': 'Y' ,\n",
    "         'CAC': 'H', 'AAC': 'N', 'GAC': 'D', 'UAA' :'Stop', 'CAA' :'Q', 'AAA': 'K', 'GAA' :'E','UAG': 'Stop', \n",
    "         'CAG': 'Q', 'AAG':'K', 'GAG': 'E', 'UGU': 'C', 'CGU': 'R', 'AGU': 'S', 'GGU': 'G', 'UGC': 'C', 'CGC': 'R', 'AGC': 'S', \n",
    "         'GGC': 'G','UGA': 'Stop', 'CGA': 'R','AGA' :'R' ,'GGA': 'G', 'UGG' :'W', 'CGG': 'R', 'AGG': 'R' ,'GGG': 'G'}                \n",
    "\n",
    "                              \n",
    "def reading_frame():\n",
    "    '''\n",
    "    This function find the six reading frame of a DNA sequence.\n",
    "    Three forward and three backward then output the corresponding protein\n",
    "    '''\n",
    "    \n",
    "    frame = input(\"Enter your DNA sequence for reading frame:\") #Enter your dna sequence\n",
    "    frame = frame.upper() #Turn DNA input into Capital letters\n",
    "    for i in frame:\n",
    "        if i == \"T\":\n",
    "            rna = frame.replace(i,\"U\") #Trun all T into U to get the RNA sequence \n",
    "    \n",
    "    print(f'Forward reading frames:') #forward reading frame\n",
    "    \n",
    "    for read1 in range(0,len(frame)): # First forward reading frame\n",
    "        if(rna[read1*3:3*read1+3] in amino): #check if the base are in the amino dictionary\n",
    "                protein = amino[rna[read1*3:3*read1+3]]\n",
    "                if(protein == \"Stop\"): #If stop codon \n",
    "                    print(\"*\",end='')\n",
    "                    break\n",
    "                else:\n",
    "                    print(protein,end=\"\")\n",
    "                    \n",
    "    print()\n",
    "    for read2 in range(0,len(frame)): #Second forward reading frame\n",
    "        if(rna[(read2*3)+1:(3*read2)+4] in amino): #check if the base are in the amino dictionary\n",
    "                protein2 = amino[rna[(read2*3)+1:(3*read2)+4]]\n",
    "                if(protein2 == \"Stop\"): #If stop codon \n",
    "                    print(\"*\",end=\"\")\n",
    "                    break\n",
    "                else:\n",
    "                    print(protein2,end=\"\")\n",
    "                    \n",
    "    print()\n",
    "    for read3 in range(0,len(frame)): #third foward reading frame\n",
    "        if(rna[(read3*3)+2:(3*read3)+5] in amino): #check if the base are in the amino dictionary\n",
    "                protein3 = amino[rna[(read3*3)+2:(3*read3)+5]]\n",
    "                if(protein3 == \"Stop\"): #If stop codon \n",
    "                    print(\"*\",end='')\n",
    "                    break\n",
    "                else:\n",
    "                    print(protein3,end=\"\")\n",
    "        \n",
    "\n",
    "    print()\n",
    "    print(f'Backward reading frames:')\n",
    "    \n",
    "    reverse = reverse_seq(frame) #reverse the sequence\n",
    "    for i in reverse:\n",
    "        if i ==\"T\":\n",
    "            reverse_rna = reverse.replace(\"T\",\"U\") # get the rna sequence\n",
    "    \n",
    "    \n",
    "    for read4 in range(0,len(frame)): #first backward reading frame\n",
    "        if(reverse_rna[::-1][read4*3:3*read4+3][::-1] in amino): #check if base are in the amino dictionary\n",
    "            protein4 = amino[reverse_rna[::-1][read4*3:3*read4+3]]\n",
    "            if(protein4 == \"Stop\"): #if stop codon\n",
    "                print(\"*\",end = \"\")\n",
    "                break\n",
    "            else:\n",
    "                print(protein4,end=\"\")\n",
    "\n",
    "\n",
    "    print()\n",
    "    for read5 in range(0,len(frame)): #second backward reading frame\n",
    "        if(reverse_rna[::-1][(read5*3)+1:(3*read5)+4][::-1] in amino): #check if base are in the amino dictionary\n",
    "            protein5 = amino[reverse_rna[::-1][(read5*3)+1:(3*read5)+4]]\n",
    "            if(protein5 == \"Stop\"): #if stop codon\n",
    "                print(\"*\",end = \"\")\n",
    "                break\n",
    "            else:\n",
    "                print(protein5,end=\"\")\n",
    "\n",
    "    print()\n",
    "    for read6 in range(0,len(frame)): #third backward reading frame\n",
    "        if(reverse_rna[::-1][(read6*3)+2:(3*read6)+5][::-1] in amino): #check if base are in the amino dictionary\n",
    "            protein6 = amino[reverse_rna[::-1][(read6*3)+2:(3*read6)+5]]\n",
    "            if(protein6 == \"Stop\"): #if stop codon\n",
    "                print(\"*\")\n",
    "                break\n",
    "            else:\n",
    "                print(protein6,end=\"\")\n",
    "                \n",
    "                \n",
    "def main():\n",
    "    rev = reverse_comp() #Reverse Complement\n",
    "    print(f'DNA Reverse Complement:{rev}')\n",
    "    print(end=\"\\n\")\n",
    "    \n",
    "    palindromes() #Palidromes\n",
    "    print(end=\"\\n\")\n",
    "    \n",
    "    reading_frame()\n",
    "\n",
    "if __name__ == '__main__':\n",
    "       main()"
   ]
  }
 ],
 "metadata": {
  "kernelspec": {
   "display_name": "Python 3",
   "language": "python",
   "name": "python3"
  },
  "language_info": {
   "codemirror_mode": {
    "name": "ipython",
    "version": 3
   },
   "file_extension": ".py",
   "mimetype": "text/x-python",
   "name": "python",
   "nbconvert_exporter": "python",
   "pygments_lexer": "ipython3",
   "version": "3.8.5"
  }
 },
 "nbformat": 4,
 "nbformat_minor": 4
}
